{
 "cells": [
  {
   "cell_type": "code",
   "execution_count": 11,
   "id": "5b90b500",
   "metadata": {},
   "outputs": [],
   "source": [
    "import pandas as pd\n",
    "import numpy as np\n",
    "import torch\n",
    "import matplotlib.pyplot as plt\n",
    "import re\n",
    "import logging\n",
    "from datasets import Dataset\n",
    "from sklearn.model_selection import train_test_split\n",
    "from sklearn.metrics import accuracy_score, confusion_matrix, ConfusionMatrixDisplay\n",
    "from sklearn.base import BaseEstimator, TransformerMixin\n",
    "from transformers import RobertaTokenizer\n",
    "from transformers import RobertaForSequenceClassification, Trainer, TrainingArguments"
   ]
  },
  {
   "cell_type": "code",
   "execution_count": 12,
   "id": "2a419853",
   "metadata": {},
   "outputs": [
    {
     "data": {
      "text/html": [
       "<div>\n",
       "<style scoped>\n",
       "    .dataframe tbody tr th:only-of-type {\n",
       "        vertical-align: middle;\n",
       "    }\n",
       "\n",
       "    .dataframe tbody tr th {\n",
       "        vertical-align: top;\n",
       "    }\n",
       "\n",
       "    .dataframe thead th {\n",
       "        text-align: right;\n",
       "    }\n",
       "</style>\n",
       "<table border=\"1\" class=\"dataframe\">\n",
       "  <thead>\n",
       "    <tr style=\"text-align: right;\">\n",
       "      <th></th>\n",
       "      <th>review</th>\n",
       "      <th>sentiment</th>\n",
       "      <th>cleaned_review</th>\n",
       "    </tr>\n",
       "  </thead>\n",
       "  <tbody>\n",
       "    <tr>\n",
       "      <th>0</th>\n",
       "      <td>One of the other reviewers has mentioned that ...</td>\n",
       "      <td>positive</td>\n",
       "      <td>one reviewer mentioned watching oz episode hoo...</td>\n",
       "    </tr>\n",
       "    <tr>\n",
       "      <th>1</th>\n",
       "      <td>A wonderful little production. &lt;br /&gt;&lt;br /&gt;The...</td>\n",
       "      <td>positive</td>\n",
       "      <td>wonderful little production filming technique ...</td>\n",
       "    </tr>\n",
       "    <tr>\n",
       "      <th>2</th>\n",
       "      <td>I thought this was a wonderful way to spend ti...</td>\n",
       "      <td>positive</td>\n",
       "      <td>thought wonderful way spend time hot summer we...</td>\n",
       "    </tr>\n",
       "    <tr>\n",
       "      <th>3</th>\n",
       "      <td>Basically there's a family where a little boy ...</td>\n",
       "      <td>negative</td>\n",
       "      <td>basically family little boy jake think zombie ...</td>\n",
       "    </tr>\n",
       "    <tr>\n",
       "      <th>4</th>\n",
       "      <td>Petter Mattei's \"Love in the Time of Money\" is...</td>\n",
       "      <td>positive</td>\n",
       "      <td>petter mattei love time money visually stunnin...</td>\n",
       "    </tr>\n",
       "    <tr>\n",
       "      <th>...</th>\n",
       "      <td>...</td>\n",
       "      <td>...</td>\n",
       "      <td>...</td>\n",
       "    </tr>\n",
       "    <tr>\n",
       "      <th>49995</th>\n",
       "      <td>I thought this movie did a down right good job...</td>\n",
       "      <td>positive</td>\n",
       "      <td>thought movie right good job creative original...</td>\n",
       "    </tr>\n",
       "    <tr>\n",
       "      <th>49996</th>\n",
       "      <td>Bad plot, bad dialogue, bad acting, idiotic di...</td>\n",
       "      <td>negative</td>\n",
       "      <td>bad plot bad dialogue bad acting idiotic direc...</td>\n",
       "    </tr>\n",
       "    <tr>\n",
       "      <th>49997</th>\n",
       "      <td>I am a Catholic taught in parochial elementary...</td>\n",
       "      <td>negative</td>\n",
       "      <td>catholic taught parochial elementary school nu...</td>\n",
       "    </tr>\n",
       "    <tr>\n",
       "      <th>49998</th>\n",
       "      <td>I'm going to have to disagree with the previou...</td>\n",
       "      <td>negative</td>\n",
       "      <td>going disagree previous comment side maltin on...</td>\n",
       "    </tr>\n",
       "    <tr>\n",
       "      <th>49999</th>\n",
       "      <td>No one expects the Star Trek movies to be high...</td>\n",
       "      <td>negative</td>\n",
       "      <td>one expects star trek movie high art fan expec...</td>\n",
       "    </tr>\n",
       "  </tbody>\n",
       "</table>\n",
       "<p>49582 rows × 3 columns</p>\n",
       "</div>"
      ],
      "text/plain": [
       "                                                  review  ...                                     cleaned_review\n",
       "0      One of the other reviewers has mentioned that ...  ...  one reviewer mentioned watching oz episode hoo...\n",
       "1      A wonderful little production. <br /><br />The...  ...  wonderful little production filming technique ...\n",
       "2      I thought this was a wonderful way to spend ti...  ...  thought wonderful way spend time hot summer we...\n",
       "3      Basically there's a family where a little boy ...  ...  basically family little boy jake think zombie ...\n",
       "4      Petter Mattei's \"Love in the Time of Money\" is...  ...  petter mattei love time money visually stunnin...\n",
       "...                                                  ...  ...                                                ...\n",
       "49995  I thought this movie did a down right good job...  ...  thought movie right good job creative original...\n",
       "49996  Bad plot, bad dialogue, bad acting, idiotic di...  ...  bad plot bad dialogue bad acting idiotic direc...\n",
       "49997  I am a Catholic taught in parochial elementary...  ...  catholic taught parochial elementary school nu...\n",
       "49998  I'm going to have to disagree with the previou...  ...  going disagree previous comment side maltin on...\n",
       "49999  No one expects the Star Trek movies to be high...  ...  one expects star trek movie high art fan expec...\n",
       "\n",
       "[49582 rows x 3 columns]"
      ]
     },
     "execution_count": 12,
     "metadata": {},
     "output_type": "execute_result"
    }
   ],
   "source": [
    "cleaned_data = pd.read_pickle('../notebooks/cleaned_data.pkl')\n",
    "cleaned_data"
   ]
  },
  {
   "cell_type": "code",
   "execution_count": 14,
   "id": "774d9d0d",
   "metadata": {},
   "outputs": [],
   "source": [
    "class TextPreprocessor(BaseEstimator, TransformerMixin):\n",
    "    def __init__(self, log_every=1000):\n",
    "        self.log_every = log_every\n",
    "\n",
    "    def fit(self, X, y=None):\n",
    "        return self\n",
    "\n",
    "    def transform(self, X, y=None):\n",
    "        return np.array([\n",
    "            self._preprocess(text, idx) for idx, text in enumerate(X)\n",
    "        ])\n",
    "\n",
    "    def _preprocess(self, text, idx=None):\n",
    "        if idx is not None and self.log_every and idx % self.log_every == 0:\n",
    "            logging.info(f\"Preprocessing row {idx}\")\n",
    "\n",
    "        # Remove HTML tags\n",
    "        text = re.sub(r\"<.*?>\", \" \", text)\n",
    "        # Lowercase only (keep punctuation)\n",
    "        text = text.lower()\n",
    "        return text"
   ]
  },
  {
   "cell_type": "code",
   "execution_count": 15,
   "id": "516e8276",
   "metadata": {},
   "outputs": [
    {
     "data": {
      "text/html": [
       "<div>\n",
       "<style scoped>\n",
       "    .dataframe tbody tr th:only-of-type {\n",
       "        vertical-align: middle;\n",
       "    }\n",
       "\n",
       "    .dataframe tbody tr th {\n",
       "        vertical-align: top;\n",
       "    }\n",
       "\n",
       "    .dataframe thead th {\n",
       "        text-align: right;\n",
       "    }\n",
       "</style>\n",
       "<table border=\"1\" class=\"dataframe\">\n",
       "  <thead>\n",
       "    <tr style=\"text-align: right;\">\n",
       "      <th></th>\n",
       "      <th>review</th>\n",
       "      <th>sentiment</th>\n",
       "      <th>cleaned_review</th>\n",
       "      <th>cleaned_review_roberta</th>\n",
       "    </tr>\n",
       "  </thead>\n",
       "  <tbody>\n",
       "    <tr>\n",
       "      <th>0</th>\n",
       "      <td>One of the other reviewers has mentioned that ...</td>\n",
       "      <td>positive</td>\n",
       "      <td>one reviewer mentioned watching oz episode hoo...</td>\n",
       "      <td>one of the other reviewers has mentioned that ...</td>\n",
       "    </tr>\n",
       "    <tr>\n",
       "      <th>1</th>\n",
       "      <td>A wonderful little production. &lt;br /&gt;&lt;br /&gt;The...</td>\n",
       "      <td>positive</td>\n",
       "      <td>wonderful little production filming technique ...</td>\n",
       "      <td>a wonderful little production.   the filming t...</td>\n",
       "    </tr>\n",
       "    <tr>\n",
       "      <th>2</th>\n",
       "      <td>I thought this was a wonderful way to spend ti...</td>\n",
       "      <td>positive</td>\n",
       "      <td>thought wonderful way spend time hot summer we...</td>\n",
       "      <td>i thought this was a wonderful way to spend ti...</td>\n",
       "    </tr>\n",
       "    <tr>\n",
       "      <th>3</th>\n",
       "      <td>Basically there's a family where a little boy ...</td>\n",
       "      <td>negative</td>\n",
       "      <td>basically family little boy jake think zombie ...</td>\n",
       "      <td>basically there's a family where a little boy ...</td>\n",
       "    </tr>\n",
       "    <tr>\n",
       "      <th>4</th>\n",
       "      <td>Petter Mattei's \"Love in the Time of Money\" is...</td>\n",
       "      <td>positive</td>\n",
       "      <td>petter mattei love time money visually stunnin...</td>\n",
       "      <td>petter mattei's \"love in the time of money\" is...</td>\n",
       "    </tr>\n",
       "    <tr>\n",
       "      <th>...</th>\n",
       "      <td>...</td>\n",
       "      <td>...</td>\n",
       "      <td>...</td>\n",
       "      <td>...</td>\n",
       "    </tr>\n",
       "    <tr>\n",
       "      <th>49995</th>\n",
       "      <td>I thought this movie did a down right good job...</td>\n",
       "      <td>positive</td>\n",
       "      <td>thought movie right good job creative original...</td>\n",
       "      <td>i thought this movie did a down right good job...</td>\n",
       "    </tr>\n",
       "    <tr>\n",
       "      <th>49996</th>\n",
       "      <td>Bad plot, bad dialogue, bad acting, idiotic di...</td>\n",
       "      <td>negative</td>\n",
       "      <td>bad plot bad dialogue bad acting idiotic direc...</td>\n",
       "      <td>bad plot, bad dialogue, bad acting, idiotic di...</td>\n",
       "    </tr>\n",
       "    <tr>\n",
       "      <th>49997</th>\n",
       "      <td>I am a Catholic taught in parochial elementary...</td>\n",
       "      <td>negative</td>\n",
       "      <td>catholic taught parochial elementary school nu...</td>\n",
       "      <td>i am a catholic taught in parochial elementary...</td>\n",
       "    </tr>\n",
       "    <tr>\n",
       "      <th>49998</th>\n",
       "      <td>I'm going to have to disagree with the previou...</td>\n",
       "      <td>negative</td>\n",
       "      <td>going disagree previous comment side maltin on...</td>\n",
       "      <td>i'm going to have to disagree with the previou...</td>\n",
       "    </tr>\n",
       "    <tr>\n",
       "      <th>49999</th>\n",
       "      <td>No one expects the Star Trek movies to be high...</td>\n",
       "      <td>negative</td>\n",
       "      <td>one expects star trek movie high art fan expec...</td>\n",
       "      <td>no one expects the star trek movies to be high...</td>\n",
       "    </tr>\n",
       "  </tbody>\n",
       "</table>\n",
       "<p>49582 rows × 4 columns</p>\n",
       "</div>"
      ],
      "text/plain": [
       "                                                  review  ...                             cleaned_review_roberta\n",
       "0      One of the other reviewers has mentioned that ...  ...  one of the other reviewers has mentioned that ...\n",
       "1      A wonderful little production. <br /><br />The...  ...  a wonderful little production.   the filming t...\n",
       "2      I thought this was a wonderful way to spend ti...  ...  i thought this was a wonderful way to spend ti...\n",
       "3      Basically there's a family where a little boy ...  ...  basically there's a family where a little boy ...\n",
       "4      Petter Mattei's \"Love in the Time of Money\" is...  ...  petter mattei's \"love in the time of money\" is...\n",
       "...                                                  ...  ...                                                ...\n",
       "49995  I thought this movie did a down right good job...  ...  i thought this movie did a down right good job...\n",
       "49996  Bad plot, bad dialogue, bad acting, idiotic di...  ...  bad plot, bad dialogue, bad acting, idiotic di...\n",
       "49997  I am a Catholic taught in parochial elementary...  ...  i am a catholic taught in parochial elementary...\n",
       "49998  I'm going to have to disagree with the previou...  ...  i'm going to have to disagree with the previou...\n",
       "49999  No one expects the Star Trek movies to be high...  ...  no one expects the star trek movies to be high...\n",
       "\n",
       "[49582 rows x 4 columns]"
      ]
     },
     "execution_count": 15,
     "metadata": {},
     "output_type": "execute_result"
    }
   ],
   "source": [
    "preprocessor = TextPreprocessor()\n",
    "review_copy = cleaned_data['review'].copy()\n",
    "cleaned_reviews = preprocessor.transform(review_copy)\n",
    "\n",
    "cleaned_data['cleaned_review_roberta'] = cleaned_reviews\n",
    "cleaned_data"
   ]
  },
  {
   "cell_type": "code",
   "execution_count": 16,
   "id": "faf4b42f",
   "metadata": {},
   "outputs": [
    {
     "data": {
      "text/html": [
       "<div>\n",
       "<style scoped>\n",
       "    .dataframe tbody tr th:only-of-type {\n",
       "        vertical-align: middle;\n",
       "    }\n",
       "\n",
       "    .dataframe tbody tr th {\n",
       "        vertical-align: top;\n",
       "    }\n",
       "\n",
       "    .dataframe thead th {\n",
       "        text-align: right;\n",
       "    }\n",
       "</style>\n",
       "<table border=\"1\" class=\"dataframe\">\n",
       "  <thead>\n",
       "    <tr style=\"text-align: right;\">\n",
       "      <th></th>\n",
       "      <th>review</th>\n",
       "      <th>sentiment</th>\n",
       "      <th>cleaned_review</th>\n",
       "      <th>cleaned_review_roberta</th>\n",
       "      <th>label</th>\n",
       "    </tr>\n",
       "  </thead>\n",
       "  <tbody>\n",
       "    <tr>\n",
       "      <th>0</th>\n",
       "      <td>One of the other reviewers has mentioned that ...</td>\n",
       "      <td>positive</td>\n",
       "      <td>one reviewer mentioned watching oz episode hoo...</td>\n",
       "      <td>one of the other reviewers has mentioned that ...</td>\n",
       "      <td>1</td>\n",
       "    </tr>\n",
       "    <tr>\n",
       "      <th>1</th>\n",
       "      <td>A wonderful little production. &lt;br /&gt;&lt;br /&gt;The...</td>\n",
       "      <td>positive</td>\n",
       "      <td>wonderful little production filming technique ...</td>\n",
       "      <td>a wonderful little production.   the filming t...</td>\n",
       "      <td>1</td>\n",
       "    </tr>\n",
       "    <tr>\n",
       "      <th>2</th>\n",
       "      <td>I thought this was a wonderful way to spend ti...</td>\n",
       "      <td>positive</td>\n",
       "      <td>thought wonderful way spend time hot summer we...</td>\n",
       "      <td>i thought this was a wonderful way to spend ti...</td>\n",
       "      <td>1</td>\n",
       "    </tr>\n",
       "    <tr>\n",
       "      <th>3</th>\n",
       "      <td>Basically there's a family where a little boy ...</td>\n",
       "      <td>negative</td>\n",
       "      <td>basically family little boy jake think zombie ...</td>\n",
       "      <td>basically there's a family where a little boy ...</td>\n",
       "      <td>0</td>\n",
       "    </tr>\n",
       "    <tr>\n",
       "      <th>4</th>\n",
       "      <td>Petter Mattei's \"Love in the Time of Money\" is...</td>\n",
       "      <td>positive</td>\n",
       "      <td>petter mattei love time money visually stunnin...</td>\n",
       "      <td>petter mattei's \"love in the time of money\" is...</td>\n",
       "      <td>1</td>\n",
       "    </tr>\n",
       "    <tr>\n",
       "      <th>...</th>\n",
       "      <td>...</td>\n",
       "      <td>...</td>\n",
       "      <td>...</td>\n",
       "      <td>...</td>\n",
       "      <td>...</td>\n",
       "    </tr>\n",
       "    <tr>\n",
       "      <th>49995</th>\n",
       "      <td>I thought this movie did a down right good job...</td>\n",
       "      <td>positive</td>\n",
       "      <td>thought movie right good job creative original...</td>\n",
       "      <td>i thought this movie did a down right good job...</td>\n",
       "      <td>1</td>\n",
       "    </tr>\n",
       "    <tr>\n",
       "      <th>49996</th>\n",
       "      <td>Bad plot, bad dialogue, bad acting, idiotic di...</td>\n",
       "      <td>negative</td>\n",
       "      <td>bad plot bad dialogue bad acting idiotic direc...</td>\n",
       "      <td>bad plot, bad dialogue, bad acting, idiotic di...</td>\n",
       "      <td>0</td>\n",
       "    </tr>\n",
       "    <tr>\n",
       "      <th>49997</th>\n",
       "      <td>I am a Catholic taught in parochial elementary...</td>\n",
       "      <td>negative</td>\n",
       "      <td>catholic taught parochial elementary school nu...</td>\n",
       "      <td>i am a catholic taught in parochial elementary...</td>\n",
       "      <td>0</td>\n",
       "    </tr>\n",
       "    <tr>\n",
       "      <th>49998</th>\n",
       "      <td>I'm going to have to disagree with the previou...</td>\n",
       "      <td>negative</td>\n",
       "      <td>going disagree previous comment side maltin on...</td>\n",
       "      <td>i'm going to have to disagree with the previou...</td>\n",
       "      <td>0</td>\n",
       "    </tr>\n",
       "    <tr>\n",
       "      <th>49999</th>\n",
       "      <td>No one expects the Star Trek movies to be high...</td>\n",
       "      <td>negative</td>\n",
       "      <td>one expects star trek movie high art fan expec...</td>\n",
       "      <td>no one expects the star trek movies to be high...</td>\n",
       "      <td>0</td>\n",
       "    </tr>\n",
       "  </tbody>\n",
       "</table>\n",
       "<p>49582 rows × 5 columns</p>\n",
       "</div>"
      ],
      "text/plain": [
       "                                                  review  ... label\n",
       "0      One of the other reviewers has mentioned that ...  ...     1\n",
       "1      A wonderful little production. <br /><br />The...  ...     1\n",
       "2      I thought this was a wonderful way to spend ti...  ...     1\n",
       "3      Basically there's a family where a little boy ...  ...     0\n",
       "4      Petter Mattei's \"Love in the Time of Money\" is...  ...     1\n",
       "...                                                  ...  ...   ...\n",
       "49995  I thought this movie did a down right good job...  ...     1\n",
       "49996  Bad plot, bad dialogue, bad acting, idiotic di...  ...     0\n",
       "49997  I am a Catholic taught in parochial elementary...  ...     0\n",
       "49998  I'm going to have to disagree with the previou...  ...     0\n",
       "49999  No one expects the Star Trek movies to be high...  ...     0\n",
       "\n",
       "[49582 rows x 5 columns]"
      ]
     },
     "execution_count": 16,
     "metadata": {},
     "output_type": "execute_result"
    }
   ],
   "source": [
    "cleaned_data['label'] = cleaned_data['sentiment'].map({'positive': 1, 'negative': 0})\n",
    "cleaned_data"
   ]
  },
  {
   "cell_type": "code",
   "execution_count": 19,
   "id": "c981b879",
   "metadata": {},
   "outputs": [
    {
     "name": "stdout",
     "output_type": "stream",
     "text": [
      "0\n"
     ]
    }
   ],
   "source": [
    "print(cleaned_data['label'].isnull().sum())"
   ]
  },
  {
   "cell_type": "code",
   "execution_count": 18,
   "id": "99a27d09",
   "metadata": {},
   "outputs": [],
   "source": [
    "X_train, X_test, y_train, y_test = train_test_split(\n",
    "    cleaned_data['cleaned_review_roberta'], cleaned_data['label'], test_size=0.2, random_state=42\n",
    ")\n",
    "\n",
    "train_df = pd.DataFrame({'text': X_train, 'label': y_train}).reset_index(drop=True)\n",
    "test_df = pd.DataFrame({'text': X_test, 'label': y_test}).reset_index(drop=True)\n",
    "\n",
    "train_dataset = Dataset.from_pandas(train_df)\n",
    "test_dataset = Dataset.from_pandas(test_df)"
   ]
  },
  {
   "cell_type": "code",
   "execution_count": 20,
   "id": "85c8f489",
   "metadata": {},
   "outputs": [
    {
     "name": "stdout",
     "output_type": "stream",
     "text": [
      "label\n",
      "1    4978\n",
      "0    4939\n",
      "Name: count, dtype: int64\n"
     ]
    }
   ],
   "source": [
    "print(test_df['label'].value_counts())"
   ]
  },
  {
   "cell_type": "code",
   "execution_count": 21,
   "id": "cc30fb11",
   "metadata": {},
   "outputs": [
    {
     "data": {
      "application/vnd.jupyter.widget-view+json": {
       "model_id": "8ef420d0dab64217819b29ac08a59844",
       "version_major": 2,
       "version_minor": 0
      },
      "text/plain": [
       "Map:   0%|          | 0/39665 [00:00<?, ? examples/s]"
      ]
     },
     "metadata": {},
     "output_type": "display_data"
    },
    {
     "data": {
      "application/vnd.jupyter.widget-view+json": {
       "model_id": "280e1f44b1d04c6bbaaa11c20ff40555",
       "version_major": 2,
       "version_minor": 0
      },
      "text/plain": [
       "Map:   0%|          | 0/9917 [00:00<?, ? examples/s]"
      ]
     },
     "metadata": {},
     "output_type": "display_data"
    }
   ],
   "source": [
    "tokenizer = RobertaTokenizer.from_pretrained('roberta-base')\n",
    "\n",
    "def tokenize_function(batch):\n",
    "    return tokenizer(batch['text'], padding='max_length', truncation=True, max_length=128)\n",
    "\n",
    "train_dataset = train_dataset.map(tokenize_function, batched=True)\n",
    "test_dataset = test_dataset.map(tokenize_function, batched=True)\n",
    "\n",
    "train_dataset.set_format(type='torch', columns=['input_ids', 'attention_mask', 'label'])\n",
    "test_dataset.set_format(type='torch', columns=['input_ids', 'attention_mask', 'label'])"
   ]
  },
  {
   "cell_type": "code",
   "execution_count": null,
   "id": "42e33239",
   "metadata": {},
   "outputs": [
    {
     "name": "stderr",
     "output_type": "stream",
     "text": [
      "Some weights of RobertaForSequenceClassification were not initialized from the model checkpoint at roberta-base and are newly initialized: ['classifier.dense.bias', 'classifier.dense.weight', 'classifier.out_proj.bias', 'classifier.out_proj.weight']\n",
      "You should probably TRAIN this model on a down-stream task to be able to use it for predictions and inference.\n",
      "c:\\Users\\aarsh\\OneDrive\\Desktop\\Projects\\Review-sentiment-analysis\\venv\\Lib\\site-packages\\torch\\utils\\data\\dataloader.py:665: UserWarning: 'pin_memory' argument is set as true but no accelerator is found, then device pinned memory won't be used.\n",
      "  warnings.warn(warn_msg)\n"
     ]
    },
    {
     "data": {
      "text/html": [
       "\n",
       "    <div>\n",
       "      \n",
       "      <progress value='9918' max='9918' style='width:300px; height:20px; vertical-align: middle;'></progress>\n",
       "      [9918/9918 6:26:13, Epoch 2/2]\n",
       "    </div>\n",
       "    <table border=\"1\" class=\"dataframe\">\n",
       "  <thead>\n",
       " <tr style=\"text-align: left;\">\n",
       "      <th>Epoch</th>\n",
       "      <th>Training Loss</th>\n",
       "      <th>Validation Loss</th>\n",
       "      <th>Accuracy</th>\n",
       "    </tr>\n",
       "  </thead>\n",
       "  <tbody>\n",
       "    <tr>\n",
       "      <td>1</td>\n",
       "      <td>0.698800</td>\n",
       "      <td>0.693151</td>\n",
       "      <td>0.498034</td>\n",
       "    </tr>\n",
       "    <tr>\n",
       "      <td>2</td>\n",
       "      <td>0.691300</td>\n",
       "      <td>0.693312</td>\n",
       "      <td>0.501966</td>\n",
       "    </tr>\n",
       "  </tbody>\n",
       "</table><p>"
      ],
      "text/plain": [
       "<IPython.core.display.HTML object>"
      ]
     },
     "metadata": {},
     "output_type": "display_data"
    },
    {
     "name": "stderr",
     "output_type": "stream",
     "text": [
      "c:\\Users\\aarsh\\OneDrive\\Desktop\\Projects\\Review-sentiment-analysis\\venv\\Lib\\site-packages\\torch\\utils\\data\\dataloader.py:665: UserWarning: 'pin_memory' argument is set as true but no accelerator is found, then device pinned memory won't be used.\n",
      "  warnings.warn(warn_msg)\n",
      "c:\\Users\\aarsh\\OneDrive\\Desktop\\Projects\\Review-sentiment-analysis\\venv\\Lib\\site-packages\\torch\\utils\\data\\dataloader.py:665: UserWarning: 'pin_memory' argument is set as true but no accelerator is found, then device pinned memory won't be used.\n",
      "  warnings.warn(warn_msg)\n"
     ]
    },
    {
     "data": {
      "text/html": [],
      "text/plain": [
       "<IPython.core.display.HTML object>"
      ]
     },
     "metadata": {},
     "output_type": "display_data"
    },
    {
     "name": "stdout",
     "output_type": "stream",
     "text": [
      "Accuracy: 0.5019663204598165\n"
     ]
    }
   ],
   "source": [
    "model = RobertaForSequenceClassification.from_pretrained('roberta-base', num_labels=2)\n",
    "\n",
    "def compute_metrics(eval_pred):\n",
    "    logits, labels = eval_pred\n",
    "    preds = logits.argmax(axis=1)\n",
    "    acc = accuracy_score(labels, preds)\n",
    "    return {\"accuracy\": acc}\n",
    "\n",
    "training_args = TrainingArguments(\n",
    "    output_dir='./results',\n",
    "    num_train_epochs=2,\n",
    "    per_device_train_batch_size=8,\n",
    "    per_device_eval_batch_size=8,\n",
    "    eval_strategy=\"epoch\",\n",
    "    save_strategy=\"epoch\",\n",
    "    logging_dir='./logs',\n",
    "    logging_steps=10,\n",
    ")\n",
    "\n",
    "trainer = Trainer(\n",
    "    model=model,\n",
    "    args=training_args,\n",
    "    train_dataset=train_dataset,\n",
    "    eval_dataset=test_dataset,\n",
    "    compute_metrics=compute_metrics\n",
    ")\n",
    "\n",
    "trainer.train()"
   ]
  },
  {
   "cell_type": "code",
   "execution_count": 22,
   "id": "49b81c0c",
   "metadata": {},
   "outputs": [
    {
     "name": "stderr",
     "output_type": "stream",
     "text": [
      "c:\\Users\\aarsh\\OneDrive\\Desktop\\Projects\\Review-sentiment-analysis\\venv\\Lib\\site-packages\\torch\\utils\\data\\dataloader.py:665: UserWarning: 'pin_memory' argument is set as true but no accelerator is found, then device pinned memory won't be used.\n",
      "  warnings.warn(warn_msg)\n"
     ]
    },
    {
     "data": {
      "text/html": [],
      "text/plain": [
       "<IPython.core.display.HTML object>"
      ]
     },
     "metadata": {},
     "output_type": "display_data"
    },
    {
     "name": "stdout",
     "output_type": "stream",
     "text": [
      "Accuracy: 0.5019663204598165\n"
     ]
    }
   ],
   "source": [
    "results = trainer.evaluate()\n",
    "print(\"Accuracy:\", results[\"eval_accuracy\"])"
   ]
  },
  {
   "cell_type": "code",
   "execution_count": 9,
   "id": "2c4784ef",
   "metadata": {},
   "outputs": [
    {
     "data": {
      "text/plain": [
       "('../models/roberta_sentiment\\\\tokenizer_config.json',\n",
       " '../models/roberta_sentiment\\\\special_tokens_map.json',\n",
       " '../models/roberta_sentiment\\\\vocab.json',\n",
       " '../models/roberta_sentiment\\\\merges.txt',\n",
       " '../models/roberta_sentiment\\\\added_tokens.json')"
      ]
     },
     "execution_count": 9,
     "metadata": {},
     "output_type": "execute_result"
    }
   ],
   "source": [
    "model.save_pretrained('../models/roberta_sentiment')\n",
    "tokenizer.save_pretrained('../models/roberta_sentiment')"
   ]
  },
  {
   "cell_type": "code",
   "execution_count": 25,
   "id": "7bb06df9",
   "metadata": {},
   "outputs": [
    {
     "name": "stdout",
     "output_type": "stream",
     "text": [
      "Accuracy: 0.5019663204598165\n"
     ]
    },
    {
     "data": {
      "image/png": "[encoded data removed]",
      "text/plain": [
       "<Figure size 500x500 with 2 Axes>"
      ]
     },
     "metadata": {},
     "output_type": "display_data"
    }
   ],
   "source": [
    "# Get predictions on the test set\n",
    "predictions = trainer.predict(test_dataset)\n",
    "y_true = predictions.label_ids\n",
    "\n",
    "# Get probability for positive class (class 1)\n",
    "probs = torch.softmax(torch.tensor(predictions.predictions), dim=1)[:, 1].numpy()\n",
    "\n",
    "# Classify as positive if prob > 0.5, else negative\n",
    "y_pred = (probs > 0.5).astype(int)\n",
    "\n",
    "# Now you can compute accuracy and confusion matrix as before\n",
    "from sklearn.metrics import accuracy_score, confusion_matrix, ConfusionMatrixDisplay\n",
    "\n",
    "print(\"Accuracy:\", accuracy_score(y_true, y_pred))\n",
    "\n",
    "cm = confusion_matrix(y_true, y_pred)\n",
    "labels = [\"Negative\", \"Positive\"]\n",
    "\n",
    "fig, ax = plt.subplots(figsize=(5, 5))\n",
    "disp = ConfusionMatrixDisplay(confusion_matrix=cm, display_labels=labels)\n",
    "disp.plot(cmap=plt.cm.Blues, ax=ax, colorbar=True)\n",
    "plt.title(\"RoBERTa Sentiment Confusion Matrix (Threshold 0.5)\")\n",
    "plt.show()"
   ]
  },
  {
   "cell_type": "code",
   "execution_count": 27,
   "id": "3554f54b",
   "metadata": {},
   "outputs": [
    {
     "name": "stdout",
     "output_type": "stream",
     "text": [
      "Text: \"soul plane\" is a horrible attempt at comedy that only should appeal people with thick skulls, bloodshot eyes and furry pawns.   the plot is not only incoherent but also non-existent, acting is mostly sub sub-par with a gang of highly moronic and dreadful characters thrown in for bad measure, jokes are often spotted miles ahead and almost never even a bit amusing. this movie lacks any structure and is full of racial stereotypes that must have seemed old even in the fifties, the only thing it really has going for it is some pretty ladies, but really, if you want that you can rent something from the \"adult\" section. ok?  i can hardly see anything here to recommend since you'll probably have a lot a better and productive time chasing rats with a sledgehammer or inventing waterproof teabags or whatever.  2/10\n",
      "True label: 0\n",
      "Predicted: 1\n",
      "---\n",
      "Text: guest from the future tells a fascinating story of time travel, friendship, battle of good and evil -- all with a small budget, child actors, and few special effects. something for spielberg and lucas to learn from. ;) a sixth-grader kolya \"nick\" gerasimov finds a time machine in the basement of a decrepit building and travels 100 years into the future. he discovers a near-perfect, utopian society where robots play guitars and write poetry, everyone is kind to each other and people enjoy everything technology has to offer. alice is the daughter of a prominent scientist who invented a device called mielophone that allows to read minds of humans and animals. the device can be put to both good and bad use, depending on whose hands it falls into. when two evil space pirates from saturn who want to rule the universe attempt to steal mielophone, it falls into the hands of 20th century school boy nick. with the pirates hot on his tracks, he travels back to his time, followed by the pirates, and alice. chaos, confusion and funny situations follow as the luckless pirates try to blend in with the earthlings. alice enrolls in the same school nick goes to and demonstrates superhuman abilities in pe class. the catch is, alice doesn't know what nick looks like, while the pirates do. also, the pirates are able to change their appearance and turn literally into anyone. (hmm, i wonder if this is where james cameron got the idea for terminator...) who gets to nick -- and mielophone -- first? excellent plot, non-stop adventures, and great soundtrack. i wish hollywood made kid movies like this one...\n",
      "True label: 1\n",
      "Predicted: 1\n",
      "---\n",
      "Text: \"national treasure\" (2004) is a thoroughly misguided hodge-podge of plot entanglements that borrow from nearly every cloak and dagger government conspiracy cliché that has ever been written. the film stars nicholas cage as benjamin franklin gates (how precious is that, i ask you?); a seemingly normal fellow who, for no other reason than being of a lineage of like-minded misguided fortune hunters, decides to steal a 'national treasure' that has been hidden by the united states founding fathers. after a bit of subtext and background that plays laughably (unintentionally) like indiana jones meets the patriot, the film degenerates into one misguided whimsy after another  attempting to create a 'stanley goodspeed' regurgitation of nicholas cage and launch the whole convoluted mess forward with a series of high octane, but disconnected misadventures.  the relevancy and logic to having george washington and his motley crew of patriots burying a king's ransom someplace on native soil, and then, going through the meticulous plan of leaving clues scattered throughout u.s. currency art work, is something that director jon turteltaub never quite gets around to explaining. couldn't washington found better usage for such wealth during the start up of the country? hence, we are left with a mystery built on top of an enigma that is already on shaky ground by the time ben appoints himself the new custodian of this untold wealth. ben's intentions are noble  if confusing. he's set on protecting the treasure. for who and when?your guess is as good as mine.  but there are a few problems with ben's crusade. first up, his friend, ian holmes (sean bean) decides that he can't wait for ben to make up his mind about stealing the declaration of independence from the national archives (oh, yeah  brilliant idea!). presumably, the back of that famous document holds the secret answer to the ultimate fortune. so ian tries to kill ben. the assassination attempt is, of course, unsuccessful, if overly melodramatic. it also affords ben the opportunity to pick up, and pick on, the very sultry curator of the archives, abigail chase (diane kruger). she thinks ben is clearly a nut  at least at the beginning. but true to action/romance form, abby's resolve melts quicker than you can say, \"is that the hope diamond?\" the film moves into full x-file-ish mode, as the fbi, mistakenly believing that ben is behind the theft, retaliate in various benign ways that lead to a multi-layering of action sequences reminiscent of mission impossible meets the fugitive. honestly, don't those guys ever get 'intelligence' information that is correct? in the final analysis, \"national treasure\" isn't great film making, so much as it's a patchwork rehash of tired old bits from other movies, woven together from scraps, the likes of which would make il' betsy ross blush.  the buena vista dvd delivers a far more generous treatment than this film is deserving of. the anamorphic widescreen picture exhibits a very smooth and finely detailed image with very rich colors, natural flesh tones, solid blacks and clean whites. the stylized image is also free of blemishes and digital enhancements. the audio is 5.1 and delivers a nice sonic boom to your side and rear speakers with intensity and realism. extras include a host of promotional junket material that is rather deep and over the top in its explanation of how and why this film was made. if only, as an audience, we had had more clarification as to why ben and co. were chasing after an illusive treasure, this might have been one good flick. extras conclude with the theatrical trailer, audio commentary and deleted scenes. not for the faint-hearted  just the thick-headed.\n",
      "True label: 0\n",
      "Predicted: 1\n",
      "---\n",
      "Text: ok. first said, i just wanted to check whether this movie has an average rating below or exactly -1. but 5,9. this is sicker than any of the killers' proceedings -,- . that made me curious what people wrote here.. which in the end made me set up an account to give my 2cents of truth into this \"well of delusion\" i find here.  how dare you guys even mention this movie in the same sentences as e.g. seven? the only thing they got in common is that they show various crime-scenes. that-is-it. and \"best thriller of 1999!\" ? have you even watched another movie form that year? or any other movie in your life at all? 1999 is not a year which people are reminded of by resurrection... what's with actual movies like 8mm, eyes wide shut, arlington road, double jeopardy? (theyre actually more a \"thriller\" than this one could ever be..). resurrection does not even deserve to be dedicated to a second of 1999.  really, you guys can't be serious. i watched that movie yesterday with my girlfriend, highly recommended by a friend of her. a \"great film with christopher lambert\"! ...which i had not yet seen? hmm..   well, first look on the covers: ok, nothing special. at second glimpse you don't need to have supernatural powers to be aware that they simply mirrored lambert's head, clipped his nose 'n this&that, then made a fancy negative pattern on top of it, to get the killers image on the cover. you could even think they had some apprentice eat a gallon of marshmallows just to caption that creepy (booooh! -.- ) mouth.. whatever. turned it around and the plot starts with.. \"it's raining in chicago... blabber blabber\". come on, a six year old could have made that snippet sound more exciting. now, with this enormous excitement coming from the movies terrific presentation -.- , you absolutely wanna start watching it. because it can't be that bad, it still is christopher lambert. that assumption of mine was proved wrong. with \"proven wrong\" i mean it was brutally executed by a deadly mix of the worst imaginable acting ever known to mankind (every actor, but the tops are the \"i can do 1-liners!\" police chief, prudhommes wife __ actually a better detective than prudhomme when she recombines several incidents to a yet absolutely unknown hint in the case!!!! -.- __ and .. yes.. prudhomme himself) featuring a squadron of inhuman fake feelings, logic errors in a 1-minute-cycle, light-years far-fetched conclusions which in my point-of-view represent an insult to any thinking human being and last but not least a camera-man who obviously was a hyperventilating kangaroo. oh well, and if you do not completely shut down your brains (these aren't premises to watch it) then you should know who is who and what is what after max. 30minutes, simply because you know any scene after the first. that is thrilling. thrilling because this movie almost makes you think you can tell the future.   the bottom line: this is by far the worst movie i can remember. trust me, i've seen many horrible movies which in some way were at least only bad attempts or bad copies of another movie. resurrection however, is the best example on how to fail in every aspect possible. it was so bad that after being shocked by its unimaginably low quality in e-v-e-r-y-t-h-i-n-g, i laughed more often than in any recent comedy, simply because i was fascinated by the crew's brazenness to publish such an -extraordinary- film strip. good thing for lambert he was in highlander:endgame a year later, thus he can be pardoned. ;^o  anyhow, i do recommend watching this movie to everyone. in the end, we had great fun watching it :^d. i guarantee you, after you completely watched resurrection (be brave, you can do it!) , you will worship the level of acting in any given daily soap.   or just go 'n watch highlander one more time... that's what i'm gonna do.\n",
      "True label: 0\n",
      "Predicted: 1\n",
      "---\n",
      "Text: i haven't always been a fan, but the show grew on me. it wasn't until after season 5 that i started to see the richness of the show. they finally brought daniel jackson's search for his wife to an end and finally most of the go,ould system lords were killed by rival lords, sg-1 or others.  towards season 5, stargate sg-1, was beginning to become stale. with the new writers and the close attention by produer peter deleuise, the show became more and more solid.  the characters had become stale as well. colonel jack o'neill was the stereotypical hero with emotional baggage. after his son charlie was killed in a shooting accident with o'neill's weapon, he had decided to end his own life by going to abydos in order to face off with the go'ould ra. the character offers little growth for any actor and actor richard dean anderson chose to play him straight raising emotional barriers to protect himself. only allowing his close friends in.  amanda tapping joined the cast as captain samantha carter. she was a feminist on the edge, ready to battle any man who would doubt her ability to do her job. though this character had little area to grow, tapping has done a great job of concentrating on carter's strengths. she has taken the time to get a basic understanding of some of the things carter talks about in order that she can present the character intelligently.   christopher judge joined the cast playing the alien teal'c. teal'c was an alien called the jaffa. infant go'ould, (snake like creatures) would embed themselves into the jaffa until they had grown to the point when it would be inserted into another life form. the jaffa would die. teal'c was the first prime of apophis' army. knowing that apophis was not a god like go'ould pretend, he realized the genocide that their armies had wreaked on the galaxy. finally, having had enough, he and jack o'neill freed their team along with quite a few innocent people. after arriving on earth, he realized that earth was the planet he was looking for, who would help him fight the go'ould. christopher judge has done quite a bit with a limited character. teal'c is a wise warrior, much of which he learned was from his teacher master bra'tac. the show would not be complete without master bra'tac played by tony amandola. he is also a rock. in the end, he became adviser to most of sg-1, especially daniel jackson.   don s. davil was there from the beginning playing major general george hammand. davis has done an incredible job with hammond making him sympathetic and normal. he does his job, has a wife, sons and daughters and grandchildren. you can really say, he is the anchor of the base. simply, i would die for that man. if not allowed by his superiors to provide troops to support teams off world. he will go himself. he doesn't leave anyone behind.  i saved dr. daniel jackson for last, because this character, i believe has grown the most in the ten or eleven years it has been on. in choosing shanks i don't think the producer realized how strong shanks would be and now when people talk about jackson, they don't talk about spader, they talk about shanks. in the early years, the jackson character came off as a whiner. that's why i probably wasn't a fan. as the seasons pasted, the character became stronger. this gave him confidence. in the end, as of season 10, the jackson character has matured to the point that he has become a self sacrificing hero. he still monitors the groups ethics. he still is lead at providing information that can move any mission forward. acheaology, history, culture and exploration are part of his very being. he is determined. though a man of peace, he has matured to the point that using his weapons may be the only way to solve a disagreement.   other characters include, most recently: vala mal doran(claudia black) and colonel cameron mitchell(ben browder), new lead of sg-1. both actors come from a series called farscape and why they were put together is any bodies guess. i see little difference between mitchell and crichton (farscape character). black's character is simply off the wall. definitely different from her soldier like character arin soon.\n",
      "True label: 1\n",
      "Predicted: 1\n",
      "---\n",
      "Text: recovery is an incredibly moving piece of work, handling the devastating effects of brain injury on not only the individual, but the entire family. without resorting to preaching or hollywood sappy endings, tony marchant's drama presents a family in crisis in a realistic way.  highest praise goes david tennant and sarah parish for their incredible performances. i had presumed before watching the drama that i would see some of their previous on screen relationship in blackpool bleed through-- but it never does. neither actor is recognizable from any previous work, and i didn't see either of them as an actor playing a part during the entire 90 minutes. in addition, harry treadaway's performance as the son just on the cusp of starting his own life in university was fantastic - throughout the piece, he shows the torn nature of a teenage boy thrown into the unwilling role as man of the house,  at times, nearly every character in the drama is unsympathetic. as the viewer, i wanted to give each of them a good smack to wake up to reality, stop moping, and start adjusting to the rotten but very present change in their lives. but under the same circumstances, i see myself acting like any of them - switching between trying to show the stiff upper lip to desperation to escape to anything, including behavior that is completely unlike myself. it's the show's greatest strength - truth, without sugar coating, to force us all to think what we'd be able to do under the same circumstances.  this is a difficult, but must-watch show. i hope that it somehow manages to be shown in the u.s.\n",
      "True label: 1\n",
      "Predicted: 1\n",
      "---\n",
      "Text: awful movie. it's a shame that a few of flanders's top actors and actresses made such a lamentably poor film.  there is barely something changed since the first movie and the tv series: same actors, same prototype characters, same scenario (emotional complications, the team under emotional pressure but everything turn out tip-top after a predictable grand finale). another constant fact in the work of jan verheyen is the exaggerated product placement (company logo's on the team's shirt and along side the pitch ok but two times a commercial (by one of the characters) about an internet provider is just over the top.  meanwhile, rumour has it about the making of a second series for flanders commercial tv station 'vtm' (coincidental or not, the station where jan verheyen is programmation manager since a few months)  to conclude ... and the golden raspberry award for worst foreign movie goes to ... team spirit 2\n",
      "True label: 0\n",
      "Predicted: 1\n",
      "---\n",
      "Text: his significant charisma and commanding presence are about all that keep this afloat, but fred williamson has done far better urban action films including many of his later, vid-released fare. the big studios' williamson films of the early-to-mid 70's rarely had the punch of their mid-level counterparts, and this is a prime example. clumsy action, little violence, and the pg rating is nowhere near questionable. worth a look for hammer completists in any case.\n",
      "True label: 0\n",
      "Predicted: 1\n",
      "---\n",
      "Text: checking the spoiler alert just in case.  perhaps one of the most horrendous movies i have ever seen, mazes and monsters felt like i wasted 101 minutes of my life. the only redeeming quality of the movie were scenes that tried to be serious, but just ended up being funny since they were so bad. evil dead anyone? unfortunately for m&m (fortunately for us) it did not develop a cult following and result in a trilogy. this movie tried to address a series of problems that the main character, robbie (played by hanks) encountered throughout the film. it ended up being a fear mongering video about stereotypes that helped fuel the d&d is the devil movement in the 80s.  if you want to avoid wasting your time and money, steer clear of this junk.  p.s. - even though the cover looks kinda interesting, which is why i guess my brother bought it, it in no way takes place in a fantasy realm, unless you consider new england or new york city to be such a place.\n",
      "True label: 0\n",
      "Predicted: 1\n",
      "---\n",
      "Text: yes this movie is predictable and definitely not award-material. but then it doesn't try to be anything it is not. a fun-filled romp with real funny one-liners, a stellar and very funny performance by peter o'toole, a grounding and down to earth performance from joan plowright. the band's performance was on the spot, each one playing their role in a deft, comical manner. the music was good though not great but filled out the movie nicely. from some of the negative comments i deduced that the subtlety of some of the humour went over their heads. a good example is the comment about the \"strange baseball-like game\", well my dear american, that was cricket -from which baseball is derived- and the explaining of it to the ignorant us band was very funny for those that do know cricket. also no, you were not supposed to wince when carl broke a window; it was funny how lord foxley said \"oh yes!\" to get more money for breakage and the manager said at the same time \"oh no\" also referring to the money. jeez, it seems that every joke must be explained to some people... all-in-all i enjoyed it and had some great laughs! well worth seeing.\n",
      "True label: 1\n",
      "Predicted: 1\n",
      "---\n"
     ]
    }
   ],
   "source": [
    "for i in range(10):\n",
    "    print(\"Text:\", test_df.iloc[i]['text'])\n",
    "    print(\"True label:\", test_df.iloc[i]['label'])\n",
    "    print(\"Predicted:\", y_pred[i])\n",
    "    print(\"---\")"
   ]
  }
 ],
 "metadata": {
  "kernelspec": {
   "display_name": "venv",
   "language": "python",
   "name": "python3"
  },
  "language_info": {
   "codemirror_mode": {
    "name": "ipython",
    "version": 3
   },
   "file_extension": ".py",
   "mimetype": "text/x-python",
   "name": "python",
   "nbconvert_exporter": "python",
   "pygments_lexer": "ipython3",
   "version": "3.12.10"
  }
 },
 "nbformat": 4,
 "nbformat_minor": 5
}
